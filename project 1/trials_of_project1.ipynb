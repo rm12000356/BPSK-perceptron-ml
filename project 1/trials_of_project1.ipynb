{
 "cells": [
  {
   "cell_type": "code",
   "execution_count": 2,
   "id": "c5e22aa6-3f3f-401f-bca5-c364b2895eef",
   "metadata": {},
   "outputs": [],
   "source": [
    "import numpy as np\n",
    "import matplotlib.pyplot as plt\n",
    "num_of_points = 2\n",
    "num_symbols = 10000\n",
    "noise_power = 0.3\n",
    "phase_noise=0.5\n",
    "#control data for the loops\n",
    "num_epochs= 1\n",
    "learning_rate=0.1\n",
    "n = (np.random.randn(num_symbols) + 1j*np.random.randn(num_symbols))/np.sqrt(2)"
   ]
  },
  {
   "cell_type": "code",
   "execution_count": 3,
   "id": "29e606df-0102-4782-bb22-8c4494790876",
   "metadata": {},
   "outputs": [],
   "source": [
    "def labels_creation(num_of_points):\n",
    "    base=0\n",
    "    possible_labels = []\n",
    "    for l in range(0,num_of_points):\n",
    "        if l%2 == 0:\n",
    "            possible_labels.append(1 + base * 2)\n",
    "        else:\n",
    "            possible_labels.append(-1 - base * 2)\n",
    "            base=base+1\n",
    "    return possible_labels"
   ]
  },
  {
   "cell_type": "code",
   "execution_count": 4,
   "id": "38112e1d-f711-45bc-9135-a42a7c97456d",
   "metadata": {},
   "outputs": [],
   "source": [
    "def plot_grapgh(x, y):\n",
    "    colors = ['red' if label == 1 else 'blue' for label in y]\n",
    "    plt.figure(figsize=(5, 5))\n",
    "    plt.scatter(np.real(x), np.imag(x), c=colors, alpha=0.5)\n",
    "    plt.title(\"BPSK Constellation\")\n",
    "    plt.xlabel(\"In-phase (I)\")\n",
    "    plt.ylabel(\"Quadrature (Q)\")\n",
    "    plt.grid(True)\n",
    "    plt.axis('equal')  # Keep aspect ratio\n",
    "    plt.show()"
   ]
  },
  {
   "cell_type": "code",
   "execution_count": 5,
   "id": "3e1b6cd2-91d9-42ab-97ac-08ad70c1dc19",
   "metadata": {},
   "outputs": [],
   "source": [
    "def labels_insetion(num_of_points,data):\n",
    "    labels=labels_creation(num_of_points)\n",
    "    identification_of_lables_in_data = []\n",
    "\n",
    "    reference_symbol = []\n",
    "    for x in range(num_of_points):\n",
    "        x_degrees = (x*360/num_of_points +  0) \n",
    "        x_radians = x_degrees*np.pi/180.0\n",
    "        reference_symbol.append(np.cos(x_radians) + 1j*np.sin(x_radians))\n",
    "    \n",
    "    for d in data:\n",
    "        for i in range(0,num_of_points):\n",
    "            if np.isclose(d.real, reference_symbol[i].real, atol=1e-20) and \\\n",
    "               np.isclose(d.imag, reference_symbol[i].imag, atol=1e-20):\n",
    "                identification_of_lables_in_data.append(labels[i])\n",
    "                break\n",
    "\n",
    "    return identification_of_lables_in_data\n",
    "         "
   ]
  },
  {
   "cell_type": "code",
   "execution_count": 6,
   "id": "d7ce516a-cb06-4b3b-8b31-083ca2809419",
   "metadata": {},
   "outputs": [],
   "source": [
    "def data_separation(data):\n",
    "    data = np.array(data)\n",
    "    separated = np.stack((np.real(data), np.imag(data)), axis=1)\n",
    "    return separated"
   ]
  },
  {
   "cell_type": "code",
   "execution_count": 8,
   "id": "43ab0a4e-b5ef-405b-a564-c3a3e63969fc",
   "metadata": {},
   "outputs": [],
   "source": [
    "def create_data_set_normal( phase_noise = 0 , noise_power = 0):\n",
    "    np.random.seed(4)\n",
    "    # AWGN with unity power\n",
    "    x_int = np.random.randint(0, num_of_points, num_symbols)\n",
    "    x_degrees = (x_int*360/num_of_points +  0)#np.random.randint(0, 360)) % 360# 45, 135, 225, 315 degree\n",
    "    x_radians = x_degrees*np.pi/180.0 # sin() and cos() takes in radians\n",
    "    x_symbols = (np.cos(x_radians) + 1j*np.sin(x_radians))* np.exp(1j*phase_noise) + n * np.sqrt(noise_power)\n",
    "    return x_symbols"
   ]
  },
  {
   "cell_type": "code",
   "execution_count": 9,
   "id": "907c622b-46d2-42bd-aaf9-5993b6394bad",
   "metadata": {},
   "outputs": [],
   "source": [
    "Data = create_data_set_normal()\n",
    "Data_with_noise = create_data_set_normal(noise_power = 0.1 ,phase_noise = 0)\n",
    "Data_with_phase = create_data_set_normal(phase_noise = 0.1,noise_power = 0)\n",
    "Data_with_phase_and_noise = create_data_set_normal(phase_noise = 0,noise_power = 0)\n",
    "Target = labels_insetion(num_of_points, Data)\n",
    "\n",
    "#plot_grapgh(Data,Target)\n",
    "#plot_grapgh(Data_with_noise,Target)\n",
    "#plot_grapgh(Data_with_phase,Target)\n",
    "#plot_grapgh(Data_with_phase_and_noise,Target)"
   ]
  },
  {
   "cell_type": "code",
   "execution_count": 10,
   "id": "869a173a-e9b9-487f-b07b-9ea8be2f88bf",
   "metadata": {},
   "outputs": [],
   "source": [
    "#normal creation\n",
    "#x_int = np.random.randint(0, num_of_points, num_symbols) \n",
    "#x_degrees = (x_int*360/num_of_points +  0)#np.random.randint(0, 360)) % 360# 45, 135, 225, 315 degrees\n",
    "#x_radians = x_degrees*np.pi/180.0 # sin() and cos() takes in radians\n",
    "#x_symbols = np.cos(x_radians) + 1j*np.sin(x_radians) # this produces our QPSK complex symbols\n",
    "#AWGN addition\n",
    "#n = (np.random.randn(num_symbols) + 1j*np.random.randn(num_symbols))/np.sqrt(2) # AWGN with unity power\n",
    "#r_noise = x_symbols + n * np.sqrt(noise_power)\n",
    "#addition of Phase noise\n",
    "\n",
    "#phase_noise = np.random.randn(len(x_symbols)) * phase_noise\n",
    "#r_phase = x_symbols * np.exp(1j*phase_noise)\n",
    "#AWGN with Phase noise\n",
    "\n",
    "#r = x_symbols * np.exp(1j*phase_noise) + n * np.sqrt(noise_power)\n",
    "#plots\n",
    "#Target_for_given_data = labels_insetion(num_of_points,x_symbols)\n",
    "#plot_grapgh(x_symbols,Target_for_given_data)\n",
    "#plot_grapgh(r_noise,Target_for_given_data)\n",
    "#plot_grapgh(r_phase,Target_for_given_data)\n",
    "#plot_grapgh(r,Target_for_given_data)"
   ]
  },
  {
   "cell_type": "code",
   "execution_count": 11,
   "id": "546f2f1a-27ed-45fc-9b2e-e885b86d6918",
   "metadata": {},
   "outputs": [],
   "source": [
    "#only works for 2 points since perceptron is not made to detect non linearly separable, i woild need a multlayer perceptron\n",
    "def activation_function_perceptron(y):\n",
    "    if y <= 0:\n",
    "        return -1\n",
    "    else :\n",
    "        return 1"
   ]
  },
  {
   "cell_type": "code",
   "execution_count": 12,
   "id": "dd32d1a8-c17a-4650-8c4a-450835d84d6d",
   "metadata": {},
   "outputs": [],
   "source": [
    "def test_training(testing_data , weights , target , error=0):\n",
    "    testing_data=data_separation(testing_data)\n",
    "    for i, x in enumerate(testing_data):\n",
    "        v = np.dot(weights, x)\n",
    "        y = activation_function_perceptron(v)\n",
    "        if(target[i] != y):\n",
    "           error= error+1\n",
    "    return error"
   ]
  },
  {
   "cell_type": "code",
   "execution_count": 13,
   "id": "c7db9cc5-daa6-4150-9fef-5b32ed75743d",
   "metadata": {},
   "outputs": [],
   "source": [
    "# this is all the data i need to have : hte Target or desire that i have already, \n",
    "#the data itself that can be generated at any moment and the weights that tipically are inicisted at zeros, \n",
    "#soo i have everityin needed \n",
    "Target_for_given_data = labels_insetion(num_of_points,Data)\n",
    "new_data = data_separation(Data)\n",
    "weights = np.zeros(2)\n",
    "#training\n",
    "for i in range(num_epochs):\n",
    "    for x, target in zip(new_data, Target_for_given_data):\n",
    "        v = np.dot(weights.T, x)\n",
    "        y = activation_function_perceptron(v)\n",
    "        weights = weights + learning_rate * (target - y)*x"
   ]
  },
  {
   "cell_type": "code",
   "execution_count": 14,
   "id": "6e7e7b79-6638-499f-9863-2b12aa9357ee",
   "metadata": {},
   "outputs": [
    {
     "name": "stdout",
     "output_type": "stream",
     "text": [
      "pure= 0\n",
      "noice= 0\n",
      "phase= 0\n",
      "both= 0\n"
     ]
    }
   ],
   "source": [
    "#tests with noise \n",
    "error= test_training(Data , weights ,Target_for_given_data)\n",
    "print('pure=',error)\n",
    "error1= test_training(Data_with_noise ,weights ,Target_for_given_data)\n",
    "print('noice=',error1)\n",
    "error2= test_training(Data_with_phase,weights,Target_for_given_data)\n",
    "print('phase=',error2)\n",
    "error3= test_training(Data_with_phase_and_noise,weights,Target_for_given_data)\n",
    "print('both=',error3)"
   ]
  },
  {
   "cell_type": "code",
   "execution_count": null,
   "id": "524f3305-591b-448d-a057-aeaea3f6c5df",
   "metadata": {},
   "outputs": [],
   "source": []
  }
 ],
 "metadata": {
  "kernelspec": {
   "display_name": "Python 3.10 (dl_env)",
   "language": "python",
   "name": "dl_env"
  },
  "language_info": {
   "codemirror_mode": {
    "name": "ipython",
    "version": 3
   },
   "file_extension": ".py",
   "mimetype": "text/x-python",
   "name": "python",
   "nbconvert_exporter": "python",
   "pygments_lexer": "ipython3",
   "version": "3.10.18"
  }
 },
 "nbformat": 4,
 "nbformat_minor": 5
}
